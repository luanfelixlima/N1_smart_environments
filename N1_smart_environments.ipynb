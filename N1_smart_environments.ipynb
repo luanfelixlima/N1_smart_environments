{
  "nbformat": 4,
  "nbformat_minor": 0,
  "metadata": {
    "colab": {
      "provenance": []
    },
    "kernelspec": {
      "name": "python3",
      "display_name": "Python 3"
    },
    "language_info": {
      "name": "python"
    }
  },
  "cells": [
    {
      "cell_type": "code",
      "execution_count": 12,
      "metadata": {
        "colab": {
          "base_uri": "https://localhost:8080/",
          "height": 174
        },
        "id": "LJXRHsGpAC6z",
        "outputId": "c8e0bdd8-68be-43be-fa61-4fece52930f5"
      },
      "outputs": [
        {
          "output_type": "execute_result",
          "data": {
            "text/plain": [
              "'\\nAutor: Luan Felix\\nRA: 082220003\\nData: 09/03/2025\\n\\nQuestão 1:\\n\\n(a) - O conjunto de dados ml-latest-small contém classificações de filmes (de 1 a 5 estrelas) e etiquetas de texto livre do MovieLens, um serviço de recomendação de filmes.\\nEle inclui 100.836 classificações e 3.683 etiquetas aplicadas a 9.742 filmes por 610 usuários, entre 29/03/1996 e 24/09/2018. Apenas usuários que avaliaram pelo menos 20 filmes foram incluídos, sem informações demográficas.\\nOs dados estão distribuídos nos arquivos:\\n* links.csv\\n* movies.csv\\n* ratings.csv\\n* tags.csv\\nO dataset foi gerado em 26/09/2018.\\n\\n(b) - O que cada linha de cada arquivo representa:\\nlinks.csv   - relaciona o filme com as empresas de rankings;\\nmovies.csv  - representa cada filme;\\nratings.csv - apresenta a relação da avaliação do usuário com o filme;\\ntags.csv    - relação das tags aplicadas ao filme pelo usuário.\\n\\n\\n(c)\\nlinks.csv\\n- movieId - int\\n- imdbId  - int\\n- tmdbId  - int\\n\\nmovies.csv\\n- movieId - int\\n- title   - string\\n- genres  - string\\n\\nratings.csv\\n- userId     - int\\n- movieId    - int\\n- rating     - float\\n- timestamp  - int\\n\\ntags.csv\\n- userId     - int\\n- movieId    - int\\n- tag        - string\\n- timestamp  - int\\n\\nQuestão 2:\\n\\nProblemas identificados:\\n\\n(1) Colunas com dados faltantes:\\n    No dataset links, a coluna \"tmdbId\" possui 8 valores ausentes.\\n\\n(2) Conversão de tipos:\\n    No dataset links, a coluna \"tmdbId\" está como float, mas representa um id e deveria ser int.\\n\\n(3) Timestamp sem conversão:\\n    Nos datasets ratings e tags, a coluna timestamp está no formato int.\\n\\n'"
            ],
            "application/vnd.google.colaboratory.intrinsic+json": {
              "type": "string"
            }
          },
          "metadata": {},
          "execution_count": 12
        }
      ],
      "source": [
        "\"\"\"\n",
        "Autor: Luan Felix\n",
        "RA: 082220003\n",
        "Data: 09/03/2025\n",
        "\n",
        "Questão 1:\n",
        "\n",
        "(a) - O conjunto de dados ml-latest-small contém classificações de filmes (de 1 a 5 estrelas) e etiquetas de texto livre do MovieLens, um serviço de recomendação de filmes.\n",
        "Ele inclui 100.836 classificações e 3.683 etiquetas aplicadas a 9.742 filmes por 610 usuários, entre 29/03/1996 e 24/09/2018. Apenas usuários que avaliaram pelo menos 20 filmes foram incluídos, sem informações demográficas.\n",
        "Os dados estão distribuídos nos arquivos:\n",
        "* links.csv\n",
        "* movies.csv\n",
        "* ratings.csv\n",
        "* tags.csv\n",
        "O dataset foi gerado em 26/09/2018.\n",
        "\n",
        "(b) - O que cada linha de cada arquivo representa:\n",
        "links.csv   - relaciona o filme com as empresas de rankings;\n",
        "movies.csv  - representa cada filme;\n",
        "ratings.csv - apresenta a relação da avaliação do usuário com o filme;\n",
        "tags.csv    - relação das tags aplicadas ao filme pelo usuário.\n",
        "\n",
        "\n",
        "(c)\n",
        "links.csv\n",
        "- movieId - int\n",
        "- imdbId  - int\n",
        "- tmdbId  - int\n",
        "\n",
        "movies.csv\n",
        "- movieId - int\n",
        "- title   - string\n",
        "- genres  - string\n",
        "\n",
        "ratings.csv\n",
        "- userId     - int\n",
        "- movieId    - int\n",
        "- rating     - float\n",
        "- timestamp  - int\n",
        "\n",
        "tags.csv\n",
        "- userId     - int\n",
        "- movieId    - int\n",
        "- tag        - string\n",
        "- timestamp  - int\n",
        "\n",
        "Questão 2:\n",
        "\n",
        "Problemas identificados:\n",
        "\n",
        "(1) Colunas com dados faltantes:\n",
        "    No dataset links, a coluna \"tmdbId\" possui 8 valores ausentes.\n",
        "\n",
        "(2) Conversão de tipos:\n",
        "    No dataset links, a coluna \"tmdbId\" está como float, mas representa um id e deveria ser int.\n",
        "\n",
        "(3) Timestamp sem conversão:\n",
        "    Nos datasets ratings e tags, a coluna timestamp está no formato int.\n",
        "\n",
        "\"\"\""
      ]
    },
    {
      "cell_type": "code",
      "source": [
        "import pandas as pd\n",
        "\n",
        "files = {\n",
        "    \"links\": \"/content/links.csv\",\n",
        "    \"movies\": \"/content/movies.csv\",\n",
        "    \"ratings\": \"/content/ratings.csv\",\n",
        "    \"tags\": \"/content/tags.csv\",\n",
        "}\n",
        "\n",
        "dfs = {name: pd.read_csv(path) for name, path in files.items()}\n",
        "\n",
        "print('Verificar informações básicas e estatísticas de cada dataset')\n",
        "info_dict = {name: df.info() for name, df in dfs.items()}\n",
        "summary_dict = {name: df.describe(include=\"all\") for name, df in dfs.items()}\n"
      ],
      "metadata": {
        "colab": {
          "base_uri": "https://localhost:8080/"
        },
        "id": "VD4hQEqdmIYt",
        "outputId": "a7987495-c54c-4c14-ea77-9367ec20643e"
      },
      "execution_count": 11,
      "outputs": [
        {
          "output_type": "stream",
          "name": "stdout",
          "text": [
            "Verificar informações básicas e estatísticas de cada dataset\n",
            "<class 'pandas.core.frame.DataFrame'>\n",
            "RangeIndex: 9742 entries, 0 to 9741\n",
            "Data columns (total 3 columns):\n",
            " #   Column   Non-Null Count  Dtype  \n",
            "---  ------   --------------  -----  \n",
            " 0   movieId  9742 non-null   int64  \n",
            " 1   imdbId   9742 non-null   int64  \n",
            " 2   tmdbId   9734 non-null   float64\n",
            "dtypes: float64(1), int64(2)\n",
            "memory usage: 228.5 KB\n",
            "<class 'pandas.core.frame.DataFrame'>\n",
            "RangeIndex: 9742 entries, 0 to 9741\n",
            "Data columns (total 3 columns):\n",
            " #   Column   Non-Null Count  Dtype \n",
            "---  ------   --------------  ----- \n",
            " 0   movieId  9742 non-null   int64 \n",
            " 1   title    9742 non-null   object\n",
            " 2   genres   9742 non-null   object\n",
            "dtypes: int64(1), object(2)\n",
            "memory usage: 228.5+ KB\n",
            "<class 'pandas.core.frame.DataFrame'>\n",
            "RangeIndex: 100836 entries, 0 to 100835\n",
            "Data columns (total 4 columns):\n",
            " #   Column     Non-Null Count   Dtype  \n",
            "---  ------     --------------   -----  \n",
            " 0   userId     100836 non-null  int64  \n",
            " 1   movieId    100836 non-null  int64  \n",
            " 2   rating     100836 non-null  float64\n",
            " 3   timestamp  100836 non-null  int64  \n",
            "dtypes: float64(1), int64(3)\n",
            "memory usage: 3.1 MB\n",
            "<class 'pandas.core.frame.DataFrame'>\n",
            "RangeIndex: 3683 entries, 0 to 3682\n",
            "Data columns (total 4 columns):\n",
            " #   Column     Non-Null Count  Dtype \n",
            "---  ------     --------------  ----- \n",
            " 0   userId     3683 non-null   int64 \n",
            " 1   movieId    3683 non-null   int64 \n",
            " 2   tag        3683 non-null   object\n",
            " 3   timestamp  3683 non-null   int64 \n",
            "dtypes: int64(3), object(1)\n",
            "memory usage: 115.2+ KB\n"
          ]
        }
      ]
    },
    {
      "cell_type": "code",
      "source": [
        "print('Verificar dados ausentes')\n",
        "missing_values = {name: df.isnull().sum() for name, df in dfs.items()}\n",
        "print(missing_values)"
      ],
      "metadata": {
        "colab": {
          "base_uri": "https://localhost:8080/"
        },
        "id": "UXHPpzQym3wV",
        "outputId": "0374b46e-cfdf-4243-94b8-4a6a62432863"
      },
      "execution_count": 13,
      "outputs": [
        {
          "output_type": "stream",
          "name": "stdout",
          "text": [
            "Verificar dados ausentes\n",
            "{'links': movieId    0\n",
            "imdbId     0\n",
            "tmdbId     8\n",
            "dtype: int64, 'movies': movieId    0\n",
            "title      0\n",
            "genres     0\n",
            "dtype: int64, 'ratings': userId       0\n",
            "movieId      0\n",
            "rating       0\n",
            "timestamp    0\n",
            "dtype: int64, 'tags': userId       0\n",
            "movieId      0\n",
            "tag          0\n",
            "timestamp    0\n",
            "dtype: int64}\n"
          ]
        }
      ]
    },
    {
      "cell_type": "code",
      "source": [
        "print('Exibir amostras dos dados')\n",
        "samples = {name: df.head() for name, df in dfs.items()}\n",
        "print(samples, missing_values)"
      ],
      "metadata": {
        "colab": {
          "base_uri": "https://localhost:8080/"
        },
        "id": "PwiGRhxZnHxl",
        "outputId": "f5bc819b-2844-4c05-b2a0-9240a5aec405"
      },
      "execution_count": 14,
      "outputs": [
        {
          "output_type": "stream",
          "name": "stdout",
          "text": [
            "Exibir amostras dos dados\n",
            "{'links':    movieId  imdbId   tmdbId\n",
            "0        1  114709    862.0\n",
            "1        2  113497   8844.0\n",
            "2        3  113228  15602.0\n",
            "3        4  114885  31357.0\n",
            "4        5  113041  11862.0, 'movies':    movieId                               title  \\\n",
            "0        1                    Toy Story (1995)   \n",
            "1        2                      Jumanji (1995)   \n",
            "2        3             Grumpier Old Men (1995)   \n",
            "3        4            Waiting to Exhale (1995)   \n",
            "4        5  Father of the Bride Part II (1995)   \n",
            "\n",
            "                                        genres  \n",
            "0  Adventure|Animation|Children|Comedy|Fantasy  \n",
            "1                   Adventure|Children|Fantasy  \n",
            "2                               Comedy|Romance  \n",
            "3                         Comedy|Drama|Romance  \n",
            "4                                       Comedy  , 'ratings':    userId  movieId  rating  timestamp\n",
            "0       1        1     4.0  964982703\n",
            "1       1        3     4.0  964981247\n",
            "2       1        6     4.0  964982224\n",
            "3       1       47     5.0  964983815\n",
            "4       1       50     5.0  964982931, 'tags':    userId  movieId              tag   timestamp\n",
            "0       2    60756            funny  1445714994\n",
            "1       2    60756  Highly quotable  1445714996\n",
            "2       2    60756     will ferrell  1445714992\n",
            "3       2    89774     Boxing story  1445715207\n",
            "4       2    89774              MMA  1445715200} {'links': movieId    0\n",
            "imdbId     0\n",
            "tmdbId     8\n",
            "dtype: int64, 'movies': movieId    0\n",
            "title      0\n",
            "genres     0\n",
            "dtype: int64, 'ratings': userId       0\n",
            "movieId      0\n",
            "rating       0\n",
            "timestamp    0\n",
            "dtype: int64, 'tags': userId       0\n",
            "movieId      0\n",
            "tag          0\n",
            "timestamp    0\n",
            "dtype: int64}\n"
          ]
        }
      ]
    },
    {
      "cell_type": "code",
      "source": [
        "# Corrigir valores ausentes em 'tmdbId'\n",
        "dfs[\"links\"][\"tmdbId\"] = dfs[\"links\"][\"tmdbId\"].fillna(-1).astype(\"int64\")\n",
        "\n",
        "# Converter 'timestamp' para datetime nos datasets 'ratings' e 'tags'\n",
        "dfs[\"ratings\"][\"timestamp\"] = pd.to_datetime(dfs[\"ratings\"][\"timestamp\"], unit='s')\n",
        "dfs[\"tags\"][\"timestamp\"] = pd.to_datetime(dfs[\"tags\"][\"timestamp\"], unit='s')"
      ],
      "metadata": {
        "id": "v8aInEicnOzI"
      },
      "execution_count": 18,
      "outputs": []
    },
    {
      "cell_type": "code",
      "source": [
        "# Verificar se as correções foram aplicadas corretamente\n",
        "dfs[\"links\"].info(), dfs[\"ratings\"].head(), dfs[\"tags\"].head()"
      ],
      "metadata": {
        "colab": {
          "base_uri": "https://localhost:8080/"
        },
        "id": "wjCvqeAhnaxc",
        "outputId": "854b4ba8-1a84-4b8c-a2c3-4faa6bbb34c0"
      },
      "execution_count": 21,
      "outputs": [
        {
          "output_type": "stream",
          "name": "stdout",
          "text": [
            "<class 'pandas.core.frame.DataFrame'>\n",
            "RangeIndex: 9742 entries, 0 to 9741\n",
            "Data columns (total 3 columns):\n",
            " #   Column   Non-Null Count  Dtype\n",
            "---  ------   --------------  -----\n",
            " 0   movieId  9742 non-null   int64\n",
            " 1   imdbId   9742 non-null   int64\n",
            " 2   tmdbId   9742 non-null   int64\n",
            "dtypes: int64(3)\n",
            "memory usage: 228.5 KB\n"
          ]
        },
        {
          "output_type": "execute_result",
          "data": {
            "text/plain": [
              "(None,\n",
              "    userId  movieId  rating           timestamp\n",
              " 0       1        1     4.0 2000-07-30 18:45:03\n",
              " 1       1        3     4.0 2000-07-30 18:20:47\n",
              " 2       1        6     4.0 2000-07-30 18:37:04\n",
              " 3       1       47     5.0 2000-07-30 19:03:35\n",
              " 4       1       50     5.0 2000-07-30 18:48:51,\n",
              "    userId  movieId              tag           timestamp\n",
              " 0       2    60756            funny 2015-10-24 19:29:54\n",
              " 1       2    60756  Highly quotable 2015-10-24 19:29:56\n",
              " 2       2    60756     will ferrell 2015-10-24 19:29:52\n",
              " 3       2    89774     Boxing story 2015-10-24 19:33:27\n",
              " 4       2    89774              MMA 2015-10-24 19:33:20)"
            ]
          },
          "metadata": {},
          "execution_count": 21
        }
      ]
    }
  ]
}